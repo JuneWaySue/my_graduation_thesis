{
 "cells": [
  {
   "cell_type": "markdown",
   "metadata": {},
   "source": [
    "### 导包"
   ]
  },
  {
   "cell_type": "code",
   "execution_count": 1,
   "metadata": {},
   "outputs": [],
   "source": [
    "import requests # 发起网络请求\n",
    "import json  # 处理json格式的数据\n",
    "import time  # 时间\n",
    "import random  # 随机\n",
    "import re  # 正则表达式"
   ]
  },
  {
   "cell_type": "markdown",
   "metadata": {},
   "source": [
    "### 淘宝天猫\n",
    "网址：https://detail.tmall.com/item.htm?spm=a230r.1.14.14.385d7868FK4F41&id=589815124915&cm_id=140105335569ed55e27b&abbucket=14&on_comment=1&sku_properties=10004:827902415;5919063:6536025"
   ]
  },
  {
   "cell_type": "code",
   "execution_count": 2,
   "metadata": {},
   "outputs": [],
   "source": [
    "num=1\n",
    "while True:\n",
    "    url='https://rate.tmall.com/list_detail_rate.htm?'\n",
    "    headers={\n",
    "        'user-agent': 'Mozilla/5.0 (Windows NT 10.0; Win64; x64) AppleWebKit/537.36 (KHTML, like Gecko) Chrome/79.0.3945.88 Safari/537.36',\n",
    "        'cookie': 'cna=M6ZIFXAQVQICATr9Rfw6Hdh2; lid=wei5741679; hng=CN%7Czh-CN%7CCNY%7C156; t=6c016af0e470a8eabfca45da32ee0de1; tracknick=wei5741679; lgc=wei5741679; enc=w9fVxl%2BWgbpQZ1zt%2ByBOAy%2BMQB1gSyr2TC56LcAWYXAeNk87Y5dNoHuX5ZESYkkqliBfpnnjPK%2BSiXWnnR%2BYCw%3D%3D; _tb_token_=5e1b0a3713733; cookie2=12b7eb27a0cfe647cb767db955734031; x5sec=7b22726174656d616e616765723b32223a223761366332623136363637303762626131333435613163613431343463366234434e435776664d46454c506b3171584b3075656e48773d3d227d; l=dBxET1tuqlDyXuEBBOfwdFyish_O2nRbnsPyQ6oeHIB1tZOUJdzD1HwElIdAQ3QQEtfbGetzO3MF-Rn25q4LRvMDBeYCKXIpBxv9R; isg=BAsLGDXi0b3E3Q49oLjaxB_xmq_1oB8iqRweSn0YWM5cnHX-BXLycnx-dpxyvHca; dnk=wei5741679; uc1=cookie16=U%2BGCWk%2F74Mx5tgzv3dWpnhjPaQ%3D%3D&cookie21=U%2BGCWk%2F7pY%2FF&cookie15=U%2BGCWk%2F75gdr5Q%3D%3D&existShop=false&pas=0&cookie14=UoTUPvOOt3Wz6w%3D%3D&tag=8&lng=zh_CN; uc3=id2=UUGk2tWq9%2B8n6Q%3D%3D&nk2=FPzaAcj%2BZGcEZA%3D%3D&lg2=V32FPkk%2Fw0dUvg%3D%3D&vt3=F8dBxd7OsV6CfHOanOY%3D; uc4=id4=0%40U2OT6jwMoU7GPXsRrBy8%2FBib5VT8&nk4=0%40Fne9c8hIf4FUGWZDvU7Neb%2BKbjLk; _l_g_=Ug%3D%3D; unb=2964045587; cookie1=Vyu9KgDVKvtz%2FT8BpsCMgguQz22CyYUmFVQy45qu3e0%3D; login=true; cookie17=UUGk2tWq9%2B8n6Q%3D%3D; _nk_=wei5741679; sgcookie=E3pwOp4RICXEUblDKuz1g; sg=975; csg=92223529',\n",
    "        'referer': 'https://detail.tmall.com/item.htm?spm=a230r.1.14.6.591c7868vyGMde&id=589815124915&cm_id=140105335569ed55e27b&abbucket=14&sku_properties=10004:827902415;5919063:6536025'\n",
    "    }\n",
    "    params={\n",
    "        'itemId': '589815124915',\n",
    "        'spuId': '1182940081',\n",
    "        'sellerId': '2838892713',\n",
    "        'order': '3', # 1表示按时间排序，3表示默认排序\n",
    "        'currentPage': num,\n",
    "        'append': '1',  # 0：默认，1：只显示有追评的\n",
    "        'content': '1', # 1：只显示有内容，0：包含无内容\n",
    "        'needFold': '1'\n",
    "    }\n",
    "    r=requests.get(url,params=params,headers=headers)\n",
    "    temp=json.loads(re.sub('^json.*?\\(','',r.text.strip()).replace(')',''))\n",
    "    lastnum=temp['rateDetail']['paginator']['lastPage']\n",
    "    time.sleep(random.uniform(1.5,2))\n",
    "    with open(f'./data/tm/默认追评fold{num}.json', 'w', encoding='utf-8') as f:\n",
    "        f.write(json.dumps(temp,indent=4,ensure_ascii=False))\n",
    "    print(f'第{num}次爬取成功！')\n",
    "    num+=1\n",
    "    if num > lastnum:\n",
    "        break"
   ]
  },
  {
   "cell_type": "markdown",
   "metadata": {},
   "source": [
    "### 京东商城\n",
    "网址：https://item.jd.com/100002795957.html#none"
   ]
  },
  {
   "cell_type": "code",
   "execution_count": 3,
   "metadata": {},
   "outputs": [],
   "source": [
    "scores={'全部':0,'差评':1,'中评':2,'好评':3,'追评':5,'视频':7}\n",
    "sorts={'推荐':5,'时间':6}\n",
    "for key1,sort in sorts.items():\n",
    "    for key2,score in scores.items():\n",
    "        page=0\n",
    "        while True:\n",
    "            url='https://club.jd.com/comment/productPageComments.action?'\n",
    "            headers={\n",
    "                'User-Agent': 'Mozilla/5.0 (Windows NT 10.0; Win64; x64) AppleWebKit/537.36 (KHTML, like Gecko) Chrome/79.0.3945.88 Safari/537.36'\n",
    "            }\n",
    "            params={\n",
    "                'productId': '100002795957',\n",
    "                'score': score,  # 0：全部，1：差评，2：中评，3：好评，4：晒图，5：追评，7：视频晒单\n",
    "                'sortType': sort, # 5：推荐排序，6：时间排序\n",
    "                'page': page,\n",
    "                'pageSize': '10',\n",
    "                'isShadowSku': '0',\n",
    "                'fold': '1'\n",
    "            }\n",
    "            r=requests.get(url,params=params,headers=headers)\n",
    "            temp=r.json()\n",
    "            time.sleep(random.uniform(1.5,2))\n",
    "            if temp['comments'] == []:\n",
    "                break\n",
    "            with open(f'./data/jd/{key1}{key2}{page}.json', 'w', encoding='utf-8') as f:\n",
    "                f.write(json.dumps(temp,indent=4,ensure_ascii=False))\n",
    "            print(f'{key1} {key2} 第{page}次爬取成功！')\n",
    "            page+=1"
   ]
  },
  {
   "cell_type": "markdown",
   "metadata": {},
   "source": [
    "### 苏宁易购\n",
    "网址：https://product.suning.com/0000000000/10973073658.html?safp=d488778a.13701.productWrap.2&safc=prd.3.ssdsn_pic00-1_jz&safpn=10007"
   ]
  },
  {
   "cell_type": "code",
   "execution_count": 4,
   "metadata": {},
   "outputs": [],
   "source": [
    "cates={'全部':'total','最新':'newest','有图':'show','好评':'good','中评':'normal','差评':'bad','追评':'again'}\n",
    "mobiles={'黑8+128':'73658','黑8+256':'73783','蓝8+128':'73686','蓝8+256':'73813'}\n",
    "for mobile,code in mobiles.items():\n",
    "    for name,cate in cates.items():\n",
    "        num=1\n",
    "        while True:\n",
    "            url='https://review.suning.com/ajax/cluster_review_lists/general-30355545-0000000109730{0}-0000000000-{1}-{2}-default-10-----reviewList.htm?callback=reviewList'.format(code,cate,num)\n",
    "            headers={\n",
    "                'User-Agent': 'Mozilla/5.0 (Windows NT 10.0; Win64; x64) AppleWebKit/537.36 (KHTML, like Gecko) Chrome/79.0.3945.88 Safari/537.36'\n",
    "            }\n",
    "            r=requests.get(url,headers=headers)\n",
    "            temp=json.loads(r.text.replace('reviewList(','').replace(')',''))\n",
    "            time.sleep(random.uniform(1.5,2))\n",
    "            if 'commodityReviews' not in temp.keys():\n",
    "                break\n",
    "            elif temp['commodityReviews'] == []:\n",
    "                break\n",
    "            with open(f'./data/sn/{mobile}{name}{num}.json', 'w', encoding='utf-8') as f:\n",
    "                f.write(json.dumps(temp,indent=4,ensure_ascii=False))\n",
    "            print(f'{mobile}{name}  第{num}页爬取成功！')\n",
    "            num+=1"
   ]
  },
  {
   "cell_type": "markdown",
   "metadata": {},
   "source": [
    "### 华为商城\n",
    "网址：https://www.vmall.com/product/10086102942203.html?cid=70146"
   ]
  },
  {
   "cell_type": "code",
   "execution_count": 5,
   "metadata": {},
   "outputs": [],
   "source": [
    "page=1\n",
    "while True:\n",
    "    url='https://openapi.vmall.com/rms/comment/getCommentList.json?t=1584525816839'\n",
    "    headers={\n",
    "        'User-Agent': 'Mozilla/5.0 (Windows NT 10.0; Win64; x64) AppleWebKit/537.36 (KHTML, like Gecko) Chrome/79.0.3945.88 Safari/537.36'\n",
    "    }\n",
    "    data={\n",
    "        \"pid\":\"10086102942203\",\n",
    "        \"gbomCode\":\"\",\n",
    "        \"extraType\":\"0\",  # 0:全部，1：热门，2：有图\n",
    "        \"pageSize\":'20',\n",
    "        \"pageNum\":page\n",
    "    }\n",
    "    r=requests.post(url,json=data,headers=headers)\n",
    "    temp=r.json()\n",
    "    time.sleep(random.uniform(1.5,2))\n",
    "    if temp['data']['comments']==[]:\n",
    "        break\n",
    "    with open(f'./data/hw/{page}.json', 'w', encoding='utf-8') as f:\n",
    "        f.write(json.dumps(temp,indent=4,ensure_ascii=False))\n",
    "    print(f'第{page}次爬取成功！')\n",
    "    page+=1"
   ]
  }
 ],
 "metadata": {
  "kernelspec": {
   "display_name": "Python 3",
   "language": "python",
   "name": "python3"
  },
  "language_info": {
   "codemirror_mode": {
    "name": "ipython",
    "version": 3
   },
   "file_extension": ".py",
   "mimetype": "text/x-python",
   "name": "python",
   "nbconvert_exporter": "python",
   "pygments_lexer": "ipython3",
   "version": "3.6.7"
  },
  "toc": {
   "base_numbering": 1,
   "nav_menu": {},
   "number_sections": true,
   "sideBar": true,
   "skip_h1_title": false,
   "title_cell": "Table of Contents",
   "title_sidebar": "Contents",
   "toc_cell": false,
   "toc_position": {},
   "toc_section_display": true,
   "toc_window_display": false
  },
  "varInspector": {
   "cols": {
    "lenName": 16,
    "lenType": 16,
    "lenVar": 40
   },
   "kernels_config": {
    "python": {
     "delete_cmd_postfix": "",
     "delete_cmd_prefix": "del ",
     "library": "var_list.py",
     "varRefreshCmd": "print(var_dic_list())"
    },
    "r": {
     "delete_cmd_postfix": ") ",
     "delete_cmd_prefix": "rm(",
     "library": "var_list.r",
     "varRefreshCmd": "cat(var_dic_list()) "
    }
   },
   "types_to_exclude": [
    "module",
    "function",
    "builtin_function_or_method",
    "instance",
    "_Feature"
   ],
   "window_display": false
  }
 },
 "nbformat": 4,
 "nbformat_minor": 2
}
